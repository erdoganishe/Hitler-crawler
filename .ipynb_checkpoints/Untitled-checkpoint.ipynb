{
 "cells": [
  {
   "cell_type": "code",
   "execution_count": 54,
   "id": "75e6d4b3",
   "metadata": {},
   "outputs": [
    {
     "ename": "SyntaxError",
     "evalue": "unexpected character after line continuation character (3406246301.py, line 23)",
     "output_type": "error",
     "traceback": [
      "\u001b[1;36m  Cell \u001b[1;32mIn[54], line 23\u001b[1;36m\u001b[0m\n\u001b[1;33m    if (\"https://\" not in a_html \\#ignore non-wikipedia.org pages\u001b[0m\n\u001b[1;37m                                  ^\u001b[0m\n\u001b[1;31mSyntaxError\u001b[0m\u001b[1;31m:\u001b[0m unexpected character after line continuation character\n"
     ]
    }
   ],
   "source": [
    "import requests\n",
    "\n",
    "\n",
    "def get_all_links_from_wiki_page(link):\n",
    "    \n",
    "    page = requests.get(link)  #fetch wiki page\n",
    "    \n",
    "    content = str(page.content)\n",
    "    all_a_html = content.split('<a href=\"') #get all HTML links\n",
    "    \n",
    "    #list for \n",
    "    hrefs = []\n",
    "    \n",
    "    for a_html in all_a_html:\n",
    "        \n",
    "        #ignore non-wikipedia.org pages\n",
    "        #ignore non-article php pages\n",
    "        #ignore literature links\n",
    "        #ignore images\n",
    "        #non-/wiki pages are never articles; ignore\n",
    "        #ignore for :Special, :Template, etc.\n",
    "        \n",
    "        if (\"https://\" not in a_html \\\n",
    "            and \"#\" not in a_html \\\n",
    "            and \"BookSources\" not in a_html \\\n",
    "            and \".jpg\" not in a_html \\\n",
    "            and \".jpeg\" not in a_html \\\n",
    "            and \".png\" not in a_html \\\n",
    "            and \".JPG\" not in a_html \\\n",
    "            and \".JPEG\" not in a_html \\\n",
    "            and \".PNG\" not in a_html \\\n",
    "            and \"/w/\" not in a_html \\\n",
    "            and \":\" not in a_html):\n",
    "            \n",
    "            #add child link\n",
    "            \n",
    "            link = \"https://en.wikipedia.org\"\n",
    "            link += a_html.split('\"')[0]\n",
    "            hrefs.append(link)\n",
    "    \n",
    "    return list(set(hrefs))\n",
    " \n",
    "get_wiki_page(\"https://en.wikipedia.org/wiki/Porajmos\")"
   ]
  },
  {
   "cell_type": "code",
   "execution_count": 14,
   "id": "163d02e7",
   "metadata": {},
   "outputs": [
    {
     "name": "stdout",
     "output_type": "stream",
     "text": [
      "['asd', 'sd']\n"
     ]
    }
   ],
   "source": [
    "print('asd\"sd'.split('\"'))"
   ]
  },
  {
   "cell_type": "code",
   "execution_count": null,
   "id": "59b3eb3c",
   "metadata": {},
   "outputs": [],
   "source": []
  }
 ],
 "metadata": {
  "kernelspec": {
   "display_name": "Python 3 (ipykernel)",
   "language": "python",
   "name": "python3"
  },
  "language_info": {
   "codemirror_mode": {
    "name": "ipython",
    "version": 3
   },
   "file_extension": ".py",
   "mimetype": "text/x-python",
   "name": "python",
   "nbconvert_exporter": "python",
   "pygments_lexer": "ipython3",
   "version": "3.10.9"
  }
 },
 "nbformat": 4,
 "nbformat_minor": 5
}
