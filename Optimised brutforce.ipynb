{
 "cells": [
  {
   "cell_type": "code",
   "execution_count": 2,
   "id": "ee9c87aa",
   "metadata": {},
   "outputs": [],
   "source": [
    "import time\n",
    "import requests\n",
    "from bs4 import BeautifulSoup\n",
    "from collections import deque\n",
    "\n",
    "\n",
    "#use Beatiful soup library for better parse performace\n",
    "def get_links(page):\n",
    "\n",
    "    r = requests.get(page)\n",
    "    soup = BeautifulSoup(r.content, 'html.parser')\n",
    "    base_url = page[:page.find('/wiki/')]\n",
    "    links = list({base_url + a['href'] for a in soup.select('p a[href]') if a['href'].startswith('/wiki/')})\n",
    "    return links\n"
   ]
  },
  {
   "cell_type": "code",
   "execution_count": 3,
   "id": "ee4363b0",
   "metadata": {},
   "outputs": [],
   "source": [
    "\n",
    "\n",
    "def find_shortest_path(start, end):\n",
    "   \n",
    "    #use double-edged query against list, also getting path in process, not after\n",
    "    path = {}\n",
    "    path[start] = [start]\n",
    "    Q = deque([start])\n",
    "\n",
    "    while len(Q) != 0:\n",
    "       \n",
    "        page = Q.popleft()\n",
    "        links = get_links(page)\n",
    "\n",
    "       \n",
    "        for link in links:\n",
    "\n",
    "           \n",
    "            if link in end:\n",
    "                return path[page] + [link]\n",
    "\n",
    "         \n",
    "            if (link not in path) and (link != page):\n",
    "                path[link] = path[page] + [link]\n",
    "                Q.append(link)\n",
    "\n",
    "    \n",
    "    return None\n",
    "\n",
    "#formating resulting path\n",
    "def result(start, end, path):\n",
    "\n",
    "    if path:\n",
    "        result = path\n",
    "    else:\n",
    "        result = \"Hitler not found\"\n",
    "    d = {\"start\": start, \"end\": end, \"path\": result}\n",
    "    return d\n",
    "\n",
    "#test for redirects: for Hitler wiki page is not just 'https://en.wikipedia.org/wiki/Adolf_Hitler',\n",
    "#but also 'https://en.wikipedia.org/wiki/Hitler', https://en.wikipedia.org/wiki/The_F%C3%BChrer, etc\n",
    "\n",
    "def redirected(end):\n",
    "\n",
    "    end_soup = BeautifulSoup(requests.get(end).content, 'html.parser')\n",
    "    title = end_soup.find('h1').text\n",
    "    title = title.replace(' ', '_', len(title))\n",
    "    base_url = end[:end.find('/wiki/') + len('/wiki/')]\n",
    "    return set([end, base_url + title])\n",
    "\n"
   ]
  },
  {
   "cell_type": "code",
   "execution_count": 4,
   "id": "a1013f3a",
   "metadata": {},
   "outputs": [
    {
     "name": "stdout",
     "output_type": "stream",
     "text": [
      "['https://en.wikipedia.org/wiki/Oreo', 'https://en.wikipedia.org/wiki/Time_(magazine)', 'https://en.wikipedia.org/wiki/Adolf_Hitler']\n",
      "6.963189601898193\n"
     ]
    }
   ],
   "source": [
    "def main():\n",
    "    start = \"https://en.wikipedia.org/wiki/Oreo\"\n",
    "    end = \"https://en.wikipedia.org/wiki/Adolf_Hitler\"\n",
    "    \n",
    "    starttime = time.time()\n",
    "    \n",
    "    \n",
    "    path = find_shortest_path(start, redirected(end))\n",
    "    print(path)\n",
    "    \n",
    "    endtime = time.time()\n",
    "    print(endtime-starttime)\n",
    "main()"
   ]
  },
  {
   "cell_type": "code",
   "execution_count": null,
   "id": "d43e56ce",
   "metadata": {},
   "outputs": [],
   "source": []
  }
 ],
 "metadata": {
  "kernelspec": {
   "display_name": "Python 3 (ipykernel)",
   "language": "python",
   "name": "python3"
  },
  "language_info": {
   "codemirror_mode": {
    "name": "ipython",
    "version": 3
   },
   "file_extension": ".py",
   "mimetype": "text/x-python",
   "name": "python",
   "nbconvert_exporter": "python",
   "pygments_lexer": "ipython3",
   "version": "3.10.9"
  }
 },
 "nbformat": 4,
 "nbformat_minor": 5
}
